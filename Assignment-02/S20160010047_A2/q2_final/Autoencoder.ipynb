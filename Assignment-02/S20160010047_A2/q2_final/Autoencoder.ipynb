{
  "nbformat": 4,
  "nbformat_minor": 0,
  "metadata": {
    "colab": {
      "name": "Autoencoder.ipynb",
      "version": "0.3.2",
      "provenance": [],
      "collapsed_sections": []
    },
    "kernelspec": {
      "name": "python3",
      "display_name": "Python 3"
    },
    "accelerator": "GPU"
  },
  "cells": [
    {
      "metadata": {
        "id": "c5SfpZLcrC0L",
        "colab_type": "code",
        "outputId": "b7e3bd89-0f41-4bb6-ce26-3dd481d08968",
        "colab": {
          "base_uri": "https://localhost:8080/",
          "height": 129
        }
      },
      "cell_type": "code",
      "source": [
        "from google.colab import drive\n",
        "drive.mount('/content/drive')"
      ],
      "execution_count": 1,
      "outputs": [
        {
          "output_type": "stream",
          "text": [
            "Go to this URL in a browser: https://accounts.google.com/o/oauth2/auth?client_id=947318989803-6bn6qk8qdgf4n4g3pfee6491hc0brc4i.apps.googleusercontent.com&redirect_uri=urn%3Aietf%3Awg%3Aoauth%3A2.0%3Aoob&scope=email%20https%3A%2F%2Fwww.googleapis.com%2Fauth%2Fdocs.test%20https%3A%2F%2Fwww.googleapis.com%2Fauth%2Fdrive%20https%3A%2F%2Fwww.googleapis.com%2Fauth%2Fdrive.photos.readonly%20https%3A%2F%2Fwww.googleapis.com%2Fauth%2Fpeopleapi.readonly&response_type=code\n",
            "\n",
            "Enter your authorization code:\n",
            "··········\n",
            "Mounted at /content/drive\n"
          ],
          "name": "stdout"
        }
      ]
    },
    {
      "metadata": {
        "id": "n-5epE2fKibB",
        "colab_type": "code",
        "outputId": "cb42b70b-77f9-4fab-f6b9-cf03a58ec9e2",
        "colab": {
          "base_uri": "https://localhost:8080/",
          "height": 35
        }
      },
      "cell_type": "code",
      "source": [
        "from keras.layers import Input,Dense,Conv2D,MaxPooling2D, UpSampling2D\n",
        "import glob as glob\n",
        "import tensorflow as tf\n",
        "import numpy as np\n",
        "import matplotlib.pyplot as plt\n",
        "%matplotlib inline\n",
        "import keras\n",
        "from keras.layers import BatchNormalization, Activation\n",
        "from keras.layers.advanced_activations import LeakyReLU\n",
        "from keras.layers.convolutional import UpSampling2D, Conv2D\n",
        "from keras.models import Sequential, Model\n",
        "from keras.optimizers import Adam\n",
        "from skimage.transform import resize\n",
        "\n",
        "import os\n",
        "from sklearn.model_selection import train_test_split\n",
        "from skimage import transform\n",
        "import sys\n",
        "import math"
      ],
      "execution_count": 2,
      "outputs": [
        {
          "output_type": "stream",
          "text": [
            "Using TensorFlow backend.\n"
          ],
          "name": "stderr"
        }
      ]
    },
    {
      "metadata": {
        "id": "Tq0kaZ6lrF2z",
        "colab_type": "code",
        "colab": {}
      },
      "cell_type": "code",
      "source": [
        "!cd \"/content/drive/My Drive/Colab Notebooks\" "
      ],
      "execution_count": 0,
      "outputs": []
    },
    {
      "metadata": {
        "id": "RyPYjsTmrSsr",
        "colab_type": "code",
        "colab": {}
      },
      "cell_type": "code",
      "source": [
        "file_path = \"/content/drive/My Drive/Colab Notebooks/faces94\" \n",
        "image_paths = glob.glob(file_path+'/*/*/*.jp*g')"
      ],
      "execution_count": 0,
      "outputs": []
    },
    {
      "metadata": {
        "id": "MsZj9fTUO3KE",
        "colab_type": "code",
        "colab": {}
      },
      "cell_type": "code",
      "source": [
        "latent_vector = 100\n",
        "image_transform = (128, 128, 3)\n",
        "input_size = np.prod(image_transform)\n",
        "image_vector = np.empty((len(image_paths),input_size))"
      ],
      "execution_count": 0,
      "outputs": []
    },
    {
      "metadata": {
        "id": "7LEWPnEVroMF",
        "colab_type": "code",
        "outputId": "f3b339be-a80f-4475-9b10-b406de11f4df",
        "colab": {
          "base_uri": "https://localhost:8080/",
          "height": 110
        }
      },
      "cell_type": "code",
      "source": [
        "Labels = []\n",
        "images = np.empty((len(image_paths), *image_transform))\n",
        "for i in range(len(image_paths)3):\n",
        "    img = plt.imread(image_paths[i])\n",
        "    transformed_img = resize(img,output_shape=image_transform )\n",
        "    images[i] = transformed_img\n",
        "    Labels.append(image_paths[i].split('/')[6])\n",
        "    image_vector[i] = transformed_img.reshape((input_size))"
      ],
      "execution_count": 7,
      "outputs": [
        {
          "output_type": "stream",
          "text": [
            "/usr/local/lib/python3.6/dist-packages/skimage/transform/_warps.py:105: UserWarning: The default mode, 'constant', will be changed to 'reflect' in skimage 0.15.\n",
            "  warn(\"The default mode, 'constant', will be changed to 'reflect' in \"\n",
            "/usr/local/lib/python3.6/dist-packages/skimage/transform/_warps.py:110: UserWarning: Anti-aliasing will be enabled by default in skimage 0.15 to avoid aliasing artifacts when down-sampling images.\n",
            "  warn(\"Anti-aliasing will be enabled by default in skimage 0.15 to \"\n"
          ],
          "name": "stderr"
        }
      ]
    },
    {
      "metadata": {
        "id": "g4vyJUdSPs9b",
        "colab_type": "code",
        "outputId": "9f19613e-3af3-42a6-e27c-4599faa78b7e",
        "colab": {
          "base_uri": "https://localhost:8080/",
          "height": 35
        }
      },
      "cell_type": "code",
      "source": [
        "print(image_vector.shape)"
      ],
      "execution_count": 8,
      "outputs": [
        {
          "output_type": "stream",
          "text": [
            "(3059, 49152)\n"
          ],
          "name": "stdout"
        }
      ]
    },
    {
      "metadata": {
        "id": "DA7sZo93ljGi",
        "colab_type": "code",
        "colab": {
          "base_uri": "https://localhost:8080/",
          "height": 287
        },
        "outputId": "0f2f0190-c8a0-47d4-d9a7-4a8380df956d"
      },
      "cell_type": "code",
      "source": [
        "plt.imshow(images[np.random.randint(len(image_paths))])"
      ],
      "execution_count": 9,
      "outputs": [
        {
          "output_type": "execute_result",
          "data": {
            "text/plain": [
              "<matplotlib.image.AxesImage at 0x7f4ca5dcc860>"
            ]
          },
          "metadata": {
            "tags": []
          },
          "execution_count": 9
        },
        {
          "output_type": "display_data",
          "data": {
            "image/png": "[encoded data removed]",
            "text/plain": [
              "<Figure size 432x288 with 1 Axes>"
            ]
          },
          "metadata": {
            "tags": []
          }
        }
      ]
    },
    {
      "metadata": {
        "colab_type": "code",
        "id": "95sgCbzAQOsA",
        "colab": {}
      },
      "cell_type": "code",
      "source": [
        "X_train, X_test, y_train, y_test = train_test_split(image_vector, image_vector, test_size=0.3, random_state=42)\n",
        "input_image=Input((input_size, ))"
      ],
      "execution_count": 0,
      "outputs": []
    },
    {
      "metadata": {
        "colab_type": "code",
        "id": "c-mHUL3_akQh",
        "colab": {}
      },
      "cell_type": "code",
      "source": [
        ""
      ],
      "execution_count": 0,
      "outputs": []
    },
    {
      "metadata": {
        "colab_type": "code",
        "id": "_98HnDYb7o85",
        "colab": {}
      },
      "cell_type": "code",
      "source": [
        "def AutoEncoder(input_image,latent_vector):\n",
        "  encode=keras.layers.Dense(latent_vector*8, activation='relu')(input_image)\n",
        "  encode=keras.layers.Dense(latent_vector*4, activation='relu')(encode)\n",
        "  encode=keras.layers.Dense(latent_vector*2, activation='relu')(encode)\n",
        "  encode=keras.layers.Dense(latent_vector, activation='relu')(encode)\n",
        "\n",
        "  decode=keras.layers.Dense(latent_vector*2, activation='relu')(encode)\n",
        "  decode=keras.layers.Dense(latent_vector*4, activation='relu')(encode)\n",
        "  decode=keras.layers.Dense(latent_vector*8, activation='relu')(decode)\n",
        "  decode=keras.layers.Dense(input_size, activation='sigmoid')(decode)\n",
        "  autoencoder = Model(input_image,decode)\n",
        "  autoencoder.summary()\n",
        "  \n",
        "  encoder = Model(input_image,encode)\n",
        "  encoder.summary()\n",
        "  return autoencoder,encoder"
      ],
      "execution_count": 0,
      "outputs": []
    },
    {
      "metadata": {
        "colab_type": "code",
        "id": "K5AOgLCUgGwT",
        "colab": {
          "base_uri": "https://localhost:8080/",
          "height": 827
        },
        "outputId": "73dd8cc8-e50a-4e6c-9d94-929759922e05"
      },
      "cell_type": "code",
      "source": [
        "AE,encoder = AutoEncoder(input_image,latent_vector)\n"
      ],
      "execution_count": 12,
      "outputs": [
        {
          "output_type": "stream",
          "text": [
            "WARNING:tensorflow:From /usr/local/lib/python3.6/dist-packages/tensorflow/python/framework/op_def_library.py:263: colocate_with (from tensorflow.python.framework.ops) is deprecated and will be removed in a future version.\n",
            "Instructions for updating:\n",
            "Colocations handled automatically by placer.\n",
            "_________________________________________________________________\n",
            "Layer (type)                 Output Shape              Param #   \n",
            "=================================================================\n",
            "input_1 (InputLayer)         (None, 49152)             0         \n",
            "_________________________________________________________________\n",
            "dense_1 (Dense)              (None, 800)               39322400  \n",
            "_________________________________________________________________\n",
            "dense_2 (Dense)              (None, 400)               320400    \n",
            "_________________________________________________________________\n",
            "dense_3 (Dense)              (None, 200)               80200     \n",
            "_________________________________________________________________\n",
            "dense_4 (Dense)              (None, 100)               20100     \n",
            "_________________________________________________________________\n",
            "dense_6 (Dense)              (None, 400)               40400     \n",
            "_________________________________________________________________\n",
            "dense_7 (Dense)              (None, 800)               320800    \n",
            "_________________________________________________________________\n",
            "dense_8 (Dense)              (None, 49152)             39370752  \n",
            "=================================================================\n",
            "Total params: 79,475,052\n",
            "Trainable params: 79,475,052\n",
            "Non-trainable params: 0\n",
            "_________________________________________________________________\n",
            "_________________________________________________________________\n",
            "Layer (type)                 Output Shape              Param #   \n",
            "=================================================================\n",
            "input_1 (InputLayer)         (None, 49152)             0         \n",
            "_________________________________________________________________\n",
            "dense_1 (Dense)              (None, 800)               39322400  \n",
            "_________________________________________________________________\n",
            "dense_2 (Dense)              (None, 400)               320400    \n",
            "_________________________________________________________________\n",
            "dense_3 (Dense)              (None, 200)               80200     \n",
            "_________________________________________________________________\n",
            "dense_4 (Dense)              (None, 100)               20100     \n",
            "=================================================================\n",
            "Total params: 39,743,100\n",
            "Trainable params: 39,743,100\n",
            "Non-trainable params: 0\n",
            "_________________________________________________________________\n"
          ],
          "name": "stdout"
        }
      ]
    },
    {
      "metadata": {
        "colab_type": "code",
        "id": "xoGmhtaE_rFk",
        "colab": {}
      },
      "cell_type": "code",
      "source": [
        "AE.compile(optimizer='adam', loss='binary_crossentropy', metrics=['accuracy'])"
      ],
      "execution_count": 0,
      "outputs": []
    },
    {
      "metadata": {
        "colab_type": "code",
        "id": "vv-xW6xM_3kl",
        "outputId": "f9c78917-4926-4151-a774-10de071b1e43",
        "colab": {
          "base_uri": "https://localhost:8080/",
          "height": 3802
        }
      },
      "cell_type": "code",
      "source": [
        "AE.fit(X_train, y_train, batch_size=128, epochs=100, validation_data=[X_test, y_test], shuffle=True)"
      ],
      "execution_count": 14,
      "outputs": [
        {
          "output_type": "stream",
          "text": [
            "WARNING:tensorflow:From /usr/local/lib/python3.6/dist-packages/tensorflow/python/ops/math_ops.py:3066: to_int32 (from tensorflow.python.ops.math_ops) is deprecated and will be removed in a future version.\n",
            "Instructions for updating:\n",
            "Use tf.cast instead.\n",
            "Train on 2141 samples, validate on 918 samples\n",
            "Epoch 1/100\n",
            "2141/2141 [==============================] - 9s 4ms/step - loss: 0.6706 - acc: 0.6453 - val_loss: 0.6516 - val_acc: 0.6261\n",
            "Epoch 2/100\n",
            "2141/2141 [==============================] - 4s 2ms/step - loss: 0.6143 - acc: 0.6415 - val_loss: 0.4190 - val_acc: 0.6283\n",
            "Epoch 3/100\n",
            "2141/2141 [==============================] - 4s 2ms/step - loss: 0.2408 - acc: 0.6473 - val_loss: 0.2319 - val_acc: 0.6296\n",
            "Epoch 4/100\n",
            "2141/2141 [==============================] - 4s 2ms/step - loss: 0.2155 - acc: 0.6481 - val_loss: 0.2236 - val_acc: 0.6298\n",
            "Epoch 5/100\n",
            "2141/2141 [==============================] - 4s 2ms/step - loss: 0.2126 - acc: 0.6481 - val_loss: 0.2217 - val_acc: 0.6298\n",
            "Epoch 6/100\n",
            "2141/2141 [==============================] - 4s 2ms/step - loss: 0.2096 - acc: 0.6480 - val_loss: 0.2182 - val_acc: 0.6295\n",
            "Epoch 7/100\n",
            "2141/2141 [==============================] - 4s 2ms/step - loss: 0.2053 - acc: 0.6481 - val_loss: 0.2126 - val_acc: 0.6299\n",
            "Epoch 8/100\n",
            "2141/2141 [==============================] - 4s 2ms/step - loss: 0.2021 - acc: 0.6482 - val_loss: 0.2095 - val_acc: 0.6300\n",
            "Epoch 9/100\n",
            "2141/2141 [==============================] - 4s 2ms/step - loss: 0.2004 - acc: 0.6482 - val_loss: 0.2081 - val_acc: 0.6301\n",
            "Epoch 10/100\n",
            "2141/2141 [==============================] - 4s 2ms/step - loss: 0.1993 - acc: 0.6483 - val_loss: 0.2073 - val_acc: 0.6301\n",
            "Epoch 11/100\n",
            "2141/2141 [==============================] - 4s 2ms/step - loss: 0.1982 - acc: 0.6483 - val_loss: 0.2063 - val_acc: 0.6301\n",
            "Epoch 12/100\n",
            "2141/2141 [==============================] - 4s 2ms/step - loss: 0.1972 - acc: 0.6484 - val_loss: 0.2056 - val_acc: 0.6302\n",
            "Epoch 13/100\n",
            "2141/2141 [==============================] - 4s 2ms/step - loss: 0.1973 - acc: 0.6484 - val_loss: 0.2078 - val_acc: 0.6301\n",
            "Epoch 14/100\n",
            "2141/2141 [==============================] - 4s 2ms/step - loss: 0.1982 - acc: 0.6484 - val_loss: 0.2073 - val_acc: 0.6301\n",
            "Epoch 15/100\n",
            "2141/2141 [==============================] - 4s 2ms/step - loss: 0.1964 - acc: 0.6484 - val_loss: 0.2044 - val_acc: 0.6302\n",
            "Epoch 16/100\n",
            "2141/2141 [==============================] - 4s 2ms/step - loss: 0.1951 - acc: 0.6484 - val_loss: 0.2034 - val_acc: 0.6302\n",
            "Epoch 17/100\n",
            "2141/2141 [==============================] - 4s 2ms/step - loss: 0.1943 - acc: 0.6484 - val_loss: 0.2030 - val_acc: 0.6302\n",
            "Epoch 18/100\n",
            "2141/2141 [==============================] - 4s 2ms/step - loss: 0.1938 - acc: 0.6484 - val_loss: 0.2026 - val_acc: 0.6302\n",
            "Epoch 19/100\n",
            "2141/2141 [==============================] - 4s 2ms/step - loss: 0.1936 - acc: 0.6484 - val_loss: 0.2024 - val_acc: 0.6302\n",
            "Epoch 20/100\n",
            "2141/2141 [==============================] - 4s 2ms/step - loss: 0.1929 - acc: 0.6484 - val_loss: 0.2016 - val_acc: 0.6302\n",
            "Epoch 21/100\n",
            "2141/2141 [==============================] - 4s 2ms/step - loss: 0.1925 - acc: 0.6484 - val_loss: 0.2013 - val_acc: 0.6302\n",
            "Epoch 22/100\n",
            "2141/2141 [==============================] - 4s 2ms/step - loss: 0.1921 - acc: 0.6484 - val_loss: 0.2010 - val_acc: 0.6302\n",
            "Epoch 23/100\n",
            "2141/2141 [==============================] - 4s 2ms/step - loss: 0.1921 - acc: 0.6484 - val_loss: 0.2008 - val_acc: 0.6302\n",
            "Epoch 24/100\n",
            "2141/2141 [==============================] - 4s 2ms/step - loss: 0.1917 - acc: 0.6484 - val_loss: 0.2006 - val_acc: 0.6303\n",
            "Epoch 25/100\n",
            "2141/2141 [==============================] - 4s 2ms/step - loss: 0.1913 - acc: 0.6484 - val_loss: 0.2002 - val_acc: 0.6303\n",
            "Epoch 26/100\n",
            "2141/2141 [==============================] - 4s 2ms/step - loss: 0.1909 - acc: 0.6485 - val_loss: 0.1998 - val_acc: 0.6303\n",
            "Epoch 27/100\n",
            "2141/2141 [==============================] - 4s 2ms/step - loss: 0.1907 - acc: 0.6485 - val_loss: 0.1994 - val_acc: 0.6303\n",
            "Epoch 28/100\n",
            "2141/2141 [==============================] - 4s 2ms/step - loss: 0.1903 - acc: 0.6485 - val_loss: 0.1991 - val_acc: 0.6303\n",
            "Epoch 29/100\n",
            "2141/2141 [==============================] - 4s 2ms/step - loss: 0.1901 - acc: 0.6485 - val_loss: 0.1990 - val_acc: 0.6303\n",
            "Epoch 30/100\n",
            "2141/2141 [==============================] - 4s 2ms/step - loss: 0.1900 - acc: 0.6485 - val_loss: 0.1995 - val_acc: 0.6303\n",
            "Epoch 31/100\n",
            "2141/2141 [==============================] - 4s 2ms/step - loss: 0.1911 - acc: 0.6485 - val_loss: 0.1993 - val_acc: 0.6303\n",
            "Epoch 32/100\n",
            "2141/2141 [==============================] - 4s 2ms/step - loss: 0.1898 - acc: 0.6485 - val_loss: 0.1985 - val_acc: 0.6303\n",
            "Epoch 33/100\n",
            "2141/2141 [==============================] - 4s 2ms/step - loss: 0.1891 - acc: 0.6485 - val_loss: 0.1982 - val_acc: 0.6303\n",
            "Epoch 34/100\n",
            "2141/2141 [==============================] - 4s 2ms/step - loss: 0.1888 - acc: 0.6485 - val_loss: 0.1976 - val_acc: 0.6303\n",
            "Epoch 35/100\n",
            "2141/2141 [==============================] - 4s 2ms/step - loss: 0.1885 - acc: 0.6485 - val_loss: 0.1974 - val_acc: 0.6303\n",
            "Epoch 36/100\n",
            "2141/2141 [==============================] - 4s 2ms/step - loss: 0.1881 - acc: 0.6485 - val_loss: 0.1970 - val_acc: 0.6303\n",
            "Epoch 37/100\n",
            "2141/2141 [==============================] - 4s 2ms/step - loss: 0.1881 - acc: 0.6485 - val_loss: 0.1969 - val_acc: 0.6303\n",
            "Epoch 38/100\n",
            "2141/2141 [==============================] - 4s 2ms/step - loss: 0.1883 - acc: 0.6485 - val_loss: 0.1980 - val_acc: 0.6303\n",
            "Epoch 39/100\n",
            "2141/2141 [==============================] - 4s 2ms/step - loss: 0.1876 - acc: 0.6485 - val_loss: 0.1965 - val_acc: 0.6303\n",
            "Epoch 40/100\n",
            "2141/2141 [==============================] - 4s 2ms/step - loss: 0.1872 - acc: 0.6485 - val_loss: 0.1960 - val_acc: 0.6303\n",
            "Epoch 41/100\n",
            "2141/2141 [==============================] - 4s 2ms/step - loss: 0.1868 - acc: 0.6485 - val_loss: 0.1963 - val_acc: 0.6303\n",
            "Epoch 42/100\n",
            "2141/2141 [==============================] - 4s 2ms/step - loss: 0.1870 - acc: 0.6485 - val_loss: 0.1962 - val_acc: 0.6303\n",
            "Epoch 43/100\n",
            "2141/2141 [==============================] - 4s 2ms/step - loss: 0.1866 - acc: 0.6485 - val_loss: 0.1953 - val_acc: 0.6304\n",
            "Epoch 44/100\n",
            "2141/2141 [==============================] - 4s 2ms/step - loss: 0.1860 - acc: 0.6485 - val_loss: 0.1948 - val_acc: 0.6304\n",
            "Epoch 45/100\n",
            "2141/2141 [==============================] - 4s 2ms/step - loss: 0.1864 - acc: 0.6485 - val_loss: 0.1954 - val_acc: 0.6304\n",
            "Epoch 46/100\n",
            "2141/2141 [==============================] - 4s 2ms/step - loss: 0.1858 - acc: 0.6485 - val_loss: 0.1949 - val_acc: 0.6303\n",
            "Epoch 47/100\n",
            "2141/2141 [==============================] - 4s 2ms/step - loss: 0.1854 - acc: 0.6486 - val_loss: 0.1943 - val_acc: 0.6304\n",
            "Epoch 48/100\n",
            "2141/2141 [==============================] - 4s 2ms/step - loss: 0.1851 - acc: 0.6486 - val_loss: 0.1941 - val_acc: 0.6304\n",
            "Epoch 49/100\n",
            "2141/2141 [==============================] - 4s 2ms/step - loss: 0.1851 - acc: 0.6486 - val_loss: 0.1962 - val_acc: 0.6304\n",
            "Epoch 50/100\n",
            "2141/2141 [==============================] - 4s 2ms/step - loss: 0.1850 - acc: 0.6486 - val_loss: 0.1937 - val_acc: 0.6304\n",
            "Epoch 51/100\n",
            "2141/2141 [==============================] - 4s 2ms/step - loss: 0.1855 - acc: 0.6486 - val_loss: 0.1967 - val_acc: 0.6303\n",
            "Epoch 52/100\n",
            "2141/2141 [==============================] - 4s 2ms/step - loss: 0.1926 - acc: 0.6484 - val_loss: 0.2002 - val_acc: 0.6303\n",
            "Epoch 53/100\n",
            "2141/2141 [==============================] - 4s 2ms/step - loss: 0.1894 - acc: 0.6485 - val_loss: 0.1964 - val_acc: 0.6303\n",
            "Epoch 54/100\n",
            "2141/2141 [==============================] - 4s 2ms/step - loss: 0.1864 - acc: 0.6485 - val_loss: 0.1942 - val_acc: 0.6304\n",
            "Epoch 55/100\n",
            "2141/2141 [==============================] - 4s 2ms/step - loss: 0.1849 - acc: 0.6486 - val_loss: 0.1938 - val_acc: 0.6304\n",
            "Epoch 56/100\n",
            "2141/2141 [==============================] - 4s 2ms/step - loss: 0.1845 - acc: 0.6486 - val_loss: 0.1930 - val_acc: 0.6304\n",
            "Epoch 57/100\n",
            "2141/2141 [==============================] - 4s 2ms/step - loss: 0.1839 - acc: 0.6486 - val_loss: 0.1928 - val_acc: 0.6304\n",
            "Epoch 58/100\n",
            "2141/2141 [==============================] - 4s 2ms/step - loss: 0.1838 - acc: 0.6486 - val_loss: 0.1924 - val_acc: 0.6304\n",
            "Epoch 59/100\n",
            "2141/2141 [==============================] - 4s 2ms/step - loss: 0.1834 - acc: 0.6486 - val_loss: 0.1921 - val_acc: 0.6304\n",
            "Epoch 60/100\n",
            "2141/2141 [==============================] - 4s 2ms/step - loss: 0.1831 - acc: 0.6486 - val_loss: 0.1920 - val_acc: 0.6304\n",
            "Epoch 61/100\n",
            "2141/2141 [==============================] - 4s 2ms/step - loss: 0.1831 - acc: 0.6486 - val_loss: 0.1919 - val_acc: 0.6304\n",
            "Epoch 62/100\n",
            "2141/2141 [==============================] - 4s 2ms/step - loss: 0.1829 - acc: 0.6486 - val_loss: 0.1919 - val_acc: 0.6304\n",
            "Epoch 63/100\n",
            "2141/2141 [==============================] - 4s 2ms/step - loss: 0.1828 - acc: 0.6486 - val_loss: 0.1916 - val_acc: 0.6304\n",
            "Epoch 64/100\n",
            "2141/2141 [==============================] - 4s 2ms/step - loss: 0.1825 - acc: 0.6486 - val_loss: 0.1916 - val_acc: 0.6304\n",
            "Epoch 65/100\n",
            "2141/2141 [==============================] - 4s 2ms/step - loss: 0.1823 - acc: 0.6486 - val_loss: 0.1912 - val_acc: 0.6304\n",
            "Epoch 66/100\n",
            "2141/2141 [==============================] - 4s 2ms/step - loss: 0.1824 - acc: 0.6486 - val_loss: 0.1910 - val_acc: 0.6304\n",
            "Epoch 67/100\n",
            "2141/2141 [==============================] - 4s 2ms/step - loss: 0.1820 - acc: 0.6486 - val_loss: 0.1910 - val_acc: 0.6304\n",
            "Epoch 68/100\n",
            "2141/2141 [==============================] - 4s 2ms/step - loss: 0.1823 - acc: 0.6486 - val_loss: 0.1930 - val_acc: 0.6304\n",
            "Epoch 69/100\n",
            "2141/2141 [==============================] - 4s 2ms/step - loss: 0.1826 - acc: 0.6486 - val_loss: 0.1912 - val_acc: 0.6304\n",
            "Epoch 70/100\n",
            "2141/2141 [==============================] - 4s 2ms/step - loss: 0.1821 - acc: 0.6486 - val_loss: 0.1908 - val_acc: 0.6304\n",
            "Epoch 71/100\n",
            "2141/2141 [==============================] - 4s 2ms/step - loss: 0.1821 - acc: 0.6486 - val_loss: 0.1911 - val_acc: 0.6304\n",
            "Epoch 72/100\n",
            "2141/2141 [==============================] - 4s 2ms/step - loss: 0.1849 - acc: 0.6486 - val_loss: 0.1952 - val_acc: 0.6303\n",
            "Epoch 73/100\n",
            "2141/2141 [==============================] - 4s 2ms/step - loss: 0.1834 - acc: 0.6486 - val_loss: 0.1911 - val_acc: 0.6304\n",
            "Epoch 74/100\n",
            "2141/2141 [==============================] - 4s 2ms/step - loss: 0.1820 - acc: 0.6486 - val_loss: 0.1905 - val_acc: 0.6304\n",
            "Epoch 75/100\n",
            "2141/2141 [==============================] - 4s 2ms/step - loss: 0.1815 - acc: 0.6486 - val_loss: 0.1902 - val_acc: 0.6304\n",
            "Epoch 76/100\n",
            "2141/2141 [==============================] - 4s 2ms/step - loss: 0.1812 - acc: 0.6486 - val_loss: 0.1901 - val_acc: 0.6304\n",
            "Epoch 77/100\n",
            "2141/2141 [==============================] - 4s 2ms/step - loss: 0.1811 - acc: 0.6486 - val_loss: 0.1899 - val_acc: 0.6304\n",
            "Epoch 78/100\n",
            "2141/2141 [==============================] - 4s 2ms/step - loss: 0.1810 - acc: 0.6486 - val_loss: 0.1899 - val_acc: 0.6304\n",
            "Epoch 79/100\n",
            "2141/2141 [==============================] - 4s 2ms/step - loss: 0.1808 - acc: 0.6486 - val_loss: 0.1897 - val_acc: 0.6304\n",
            "Epoch 80/100\n",
            "2141/2141 [==============================] - 4s 2ms/step - loss: 0.1808 - acc: 0.6486 - val_loss: 0.1896 - val_acc: 0.6304\n",
            "Epoch 81/100\n",
            "2141/2141 [==============================] - 4s 2ms/step - loss: 0.1807 - acc: 0.6486 - val_loss: 0.1895 - val_acc: 0.6304\n",
            "Epoch 82/100\n",
            "2141/2141 [==============================] - 4s 2ms/step - loss: 0.1806 - acc: 0.6486 - val_loss: 0.1895 - val_acc: 0.6304\n",
            "Epoch 83/100\n",
            "2141/2141 [==============================] - 4s 2ms/step - loss: 0.1805 - acc: 0.6486 - val_loss: 0.1893 - val_acc: 0.6304\n",
            "Epoch 84/100\n",
            "2141/2141 [==============================] - 4s 2ms/step - loss: 0.1804 - acc: 0.6486 - val_loss: 0.1893 - val_acc: 0.6304\n",
            "Epoch 85/100\n",
            "2141/2141 [==============================] - 4s 2ms/step - loss: 0.1804 - acc: 0.6486 - val_loss: 0.1897 - val_acc: 0.6304\n",
            "Epoch 86/100\n",
            "2141/2141 [==============================] - 4s 2ms/step - loss: 0.1803 - acc: 0.6486 - val_loss: 0.1891 - val_acc: 0.6304\n",
            "Epoch 87/100\n",
            "2141/2141 [==============================] - 4s 2ms/step - loss: 0.1802 - acc: 0.6486 - val_loss: 0.1891 - val_acc: 0.6304\n",
            "Epoch 88/100\n",
            "2141/2141 [==============================] - 4s 2ms/step - loss: 0.1802 - acc: 0.6486 - val_loss: 0.1892 - val_acc: 0.6304\n",
            "Epoch 89/100\n",
            "2141/2141 [==============================] - 4s 2ms/step - loss: 0.1801 - acc: 0.6486 - val_loss: 0.1890 - val_acc: 0.6304\n",
            "Epoch 90/100\n",
            "2141/2141 [==============================] - 4s 2ms/step - loss: 0.1803 - acc: 0.6486 - val_loss: 0.1901 - val_acc: 0.6304\n",
            "Epoch 91/100\n",
            "2141/2141 [==============================] - 4s 2ms/step - loss: 0.1806 - acc: 0.6486 - val_loss: 0.1894 - val_acc: 0.6304\n",
            "Epoch 92/100\n",
            "2141/2141 [==============================] - 4s 2ms/step - loss: 0.1802 - acc: 0.6486 - val_loss: 0.1889 - val_acc: 0.6304\n",
            "Epoch 93/100\n",
            "2141/2141 [==============================] - 4s 2ms/step - loss: 0.1800 - acc: 0.6486 - val_loss: 0.1889 - val_acc: 0.6304\n",
            "Epoch 94/100\n",
            "2141/2141 [==============================] - 4s 2ms/step - loss: 0.1799 - acc: 0.6486 - val_loss: 0.1887 - val_acc: 0.6304\n",
            "Epoch 95/100\n",
            "2141/2141 [==============================] - 4s 2ms/step - loss: 0.1798 - acc: 0.6486 - val_loss: 0.1886 - val_acc: 0.6304\n",
            "Epoch 96/100\n",
            "2141/2141 [==============================] - 4s 2ms/step - loss: 0.1796 - acc: 0.6486 - val_loss: 0.1886 - val_acc: 0.6304\n",
            "Epoch 97/100\n",
            "2141/2141 [==============================] - 4s 2ms/step - loss: 0.1795 - acc: 0.6486 - val_loss: 0.1885 - val_acc: 0.6304\n",
            "Epoch 98/100\n",
            "2141/2141 [==============================] - 4s 2ms/step - loss: 0.1795 - acc: 0.6486 - val_loss: 0.1885 - val_acc: 0.6304\n",
            "Epoch 99/100\n",
            "2141/2141 [==============================] - 4s 2ms/step - loss: 0.1795 - acc: 0.6486 - val_loss: 0.1886 - val_acc: 0.6304\n",
            "Epoch 100/100\n",
            "2141/2141 [==============================] - 4s 2ms/step - loss: 0.1795 - acc: 0.6486 - val_loss: 0.1887 - val_acc: 0.6304\n"
          ],
          "name": "stdout"
        },
        {
          "output_type": "execute_result",
          "data": {
            "text/plain": [
              "<keras.callbacks.History at 0x7f4ca53bc8d0>"
            ]
          },
          "metadata": {
            "tags": []
          },
          "execution_count": 14
        }
      ]
    },
    {
      "metadata": {
        "colab_type": "code",
        "id": "O4vUnq_bAo81",
        "colab": {}
      },
      "cell_type": "code",
      "source": [
        "decoded_imgs = AE.predict(X_test)"
      ],
      "execution_count": 0,
      "outputs": []
    },
    {
      "metadata": {
        "colab_type": "code",
        "id": "U8a5BFLbi5v_",
        "colab": {}
      },
      "cell_type": "code",
      "source": [
        "encoded_imgs=encoder.predict(X_test)"
      ],
      "execution_count": 0,
      "outputs": []
    },
    {
      "metadata": {
        "colab_type": "code",
        "id": "uV9Re-60jBo4",
        "outputId": "c9bb3809-4417-4c90-ca8a-1c0bbe7876ba",
        "colab": {
          "base_uri": "https://localhost:8080/",
          "height": 248
        }
      },
      "cell_type": "code",
      "source": [
        "num_images = 5\n",
        "np.random.seed(42)\n",
        "\n",
        "def plot_reconstructed_image(i,image_idx,num_images,X_test,encoded_imgs,decoded_imgs):\n",
        "  ax = plt.subplot(3, num_images, i + 1)\n",
        "  plt.imshow(X_test[image_idx].reshape(128, 128, 3))\n",
        "  plt.gray()\n",
        "  ax.get_xaxis().set_visible(False)\n",
        "  ax.get_yaxis().set_visible(False)\n",
        "\n",
        "  # plot encoded image\n",
        "  ax = plt.subplot(3, num_images, num_images + i + 1)\n",
        "  plt.imshow(encoded_imgs[image_idx].reshape(25, 4))\n",
        "  plt.gray()\n",
        "  ax.get_xaxis().set_visible(False)\n",
        "  ax.get_yaxis().set_visible(False)\n",
        "\n",
        "  # plot reconstructed image\n",
        "  ax = plt.subplot(3, num_images, 2*num_images + i + 1)\n",
        "  plt.imshow(decoded_imgs[image_idx].reshape(128, 128, 3))\n",
        "  plt.gray()\n",
        "  ax.get_xaxis().set_visible(False)\n",
        "  ax.get_yaxis().set_visible(False)\n",
        "\n",
        "index = np.random.randint(X_test.shape[0], size=num_images)\n",
        "encoded_imgs = encoder.predict(X_test)\n",
        "decoded_imgs = AE.predict(X_test)\n",
        "\n",
        "plt.figure(figsize=(18, 4))\n",
        "\n",
        "for i, image_idx in enumerate(index):\n",
        "    # plot original image\n",
        "    plot_reconstructed_image(i,image_idx,num_images,X_test,encoded_imgs,decoded_imgs)\n",
        "plt.show()"
      ],
      "execution_count": 17,
      "outputs": [
        {
          "output_type": "display_data",
          "data": {
            "image/png": "[encoded data removed]",
            "text/plain": [
              "<Figure size 1296x288 with 15 Axes>"
            ]
          },
          "metadata": {
            "tags": []
          }
        }
      ]
    },
    {
      "metadata": {
        "id": "qoo1VS6qE8g1",
        "colab_type": "code",
        "colab": {}
      },
      "cell_type": "code",
      "source": [
        "import pandas as pd\n",
        "filename = \"latent_space.csv\" \n",
        "data_frame=pd.DataFrame(data=encoded_imgs)\n",
        "data_frame['Labels']=Labels\n",
        "data_frame.to_csv('/content/drive/My Drive/Colab Notebooks/Autoencoder/encoded_images.csv', sep='\\t', encoding='utf-8')"
      ],
      "execution_count": 0,
      "outputs": []
    },
    {
      "metadata": {
        "id": "suOATyHrOHmn",
        "colab_type": "code",
        "colab": {}
      },
      "cell_type": "code",
      "source": [
        ""
      ],
      "execution_count": 0,
      "outputs": []
    }
  ]
}